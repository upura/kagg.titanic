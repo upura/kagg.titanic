{
  "cells": [
    {
      "metadata": {
        "_cell_guid": "2c8ae4dc-20a1-4834-a44c-0952ad78af05",
        "_uuid": "1918d134989bd42ad1c66b7a5f7c07c6ec62fbed"
      },
      "cell_type": "markdown",
      "source": "# Standard Approach for Kaggle\n\nThis kernel contains the following processes.\n1. Features Engineering\n1. Classifier Comparison\n1. Grid Search CV\n\nThis kernel is inspired by the following ones.  \nhttps://www.kaggle.com/konstantinmasich/titanic-0-82-0-83  \nhttps://www.kaggle.com/sinakhorami/titanic-best-working-classifier?scriptVersionId=566580  "
    },
    {
      "metadata": {
        "_cell_guid": "e12020f7-4f94-4ecc-9007-9b7a6e7458a6",
        "_uuid": "1fecb0980d8d422ec0f005c4bfd6225385c2c60f",
        "collapsed": true,
        "trusted": true
      },
      "cell_type": "code",
      "source": "%matplotlib inline\nimport numpy as np\nimport pandas as pd\nimport re as re",
      "execution_count": 1,
      "outputs": []
    },
    {
      "metadata": {
        "_cell_guid": "d49e43e8-0dc0-41b7-afd0-60acc96e9f07",
        "_uuid": "4ecd55c5bd48390d026eeb6ae8de0a7ace0d4ada"
      },
      "cell_type": "markdown",
      "source": "## Loading datasets"
    },
    {
      "metadata": {
        "_cell_guid": "9c963eb3-04ac-422c-bc0c-4373bda6880e",
        "_uuid": "95f406c4d2f1dab6744ea248b80e3a535c652450",
        "trusted": true
      },
      "cell_type": "code",
      "source": "train = pd.read_csv(\"../input/train.csv\")\ntest = pd.read_csv(\"../input/test.csv\")\ndata = train.append(test) # The entire data: train + test.",
      "execution_count": 2,
      "outputs": [
        {
          "name": "stderr",
          "output_type": "stream",
          "text": "/opt/conda/lib/python3.6/site-packages/pandas/core/frame.py:6201: FutureWarning: Sorting because non-concatenation axis is not aligned. A future version\nof pandas will change to not sort by default.\n\nTo accept the future behavior, pass 'sort=True'.\n\nTo retain the current behavior and silence the warning, pass sort=False\n\n  sort=sort)\n"
        }
      ]
    },
    {
      "metadata": {
        "_cell_guid": "687a06ef-2686-4772-ac24-5e413adbda6d",
        "_uuid": "3846eff13d723fa6ff10117fc3ebc46f266b210f"
      },
      "cell_type": "markdown",
      "source": "# Features Engineering"
    },
    {
      "metadata": {
        "_cell_guid": "09253274-14c1-4ca9-a078-85229acba814",
        "_uuid": "234454857fff5bd61026c51cefd5eaee4e6a1879"
      },
      "cell_type": "markdown",
      "source": "## 1. Pclass ##\nThere is no missing value on this feature."
    },
    {
      "metadata": {
        "_cell_guid": "b84a4c4b-9db2-4626-8a28-9817084eb554",
        "_uuid": "610bb44d64b400e7bafbf4d6a3295c7a43f1df23"
      },
      "cell_type": "markdown",
      "source": "## 2. Sex ##\nThere is no missing value on this feature, but mapping is needed."
    },
    {
      "metadata": {
        "_cell_guid": "27c06d9c-61e1-4ba8-9cfc-81a2dd27390a",
        "_uuid": "07b661b256360d39ec561f465735042f37eee257",
        "collapsed": true,
        "trusted": true
      },
      "cell_type": "code",
      "source": "train['Sex'].replace(['male','female'],[0,1], inplace=True)\ntest['Sex'].replace(['male','female'],[0,1], inplace=True)",
      "execution_count": 3,
      "outputs": []
    },
    {
      "metadata": {
        "_cell_guid": "7e5811f2-cdaf-40bb-a38c-1a44d377a0a6",
        "_uuid": "1df23e97bc9cf6eea7fdd26e3e6149595b7983a1"
      },
      "cell_type": "markdown",
      "source": "## 3. SibSp and Parch ##\nCreate new feature called Family Size, just Parch + SibSp."
    },
    {
      "metadata": {
        "_cell_guid": "c181cefb-edd6-4d46-95c8-67b89d83ca1c",
        "_uuid": "d562760d23fa303cb93069f339bbab01fcd96486",
        "collapsed": true,
        "trusted": true
      },
      "cell_type": "code",
      "source": "data['Family_Size'] = data['Parch'] + data['SibSp'] + 1\n\ntrain['Family_Size'] = data['Family_Size'][:len(train)]\ntest['Family_Size'] = data['Family_Size'][len(train):]",
      "execution_count": 4,
      "outputs": []
    },
    {
      "metadata": {
        "_cell_guid": "2cbc7c98-e60e-43a2-8201-cec9c8e1649c",
        "_uuid": "d257820b416a9088cb372a4ca662ad6ae8b7426e"
      },
      "cell_type": "markdown",
      "source": "Let's go further and categorize people to check whether they are alone in this ship or not."
    },
    {
      "metadata": {
        "_cell_guid": "c7fcaf43-76aa-42d2-8fb4-43fe22abb213",
        "_uuid": "49e52d0af7044c1b23a39a785fbcba9c988aa78b",
        "collapsed": true,
        "trusted": true
      },
      "cell_type": "code",
      "source": "data['IsAlone'] = 0\ndata.loc[data['Family_Size'] == 1, 'IsAlone'] = 1\n\ntrain['IsAlone'] = data['IsAlone'][:len(train)]\ntest['IsAlone'] = data['IsAlone'][len(train):]",
      "execution_count": 5,
      "outputs": []
    },
    {
      "metadata": {
        "_cell_guid": "2ab02454-4dfa-4aa3-ae94-7029b86ef69e",
        "_uuid": "2cb8d46258c4b14ec678543f99f4f5789d60b22f"
      },
      "cell_type": "markdown",
      "source": "## 4. Embarked ##\nEmbarked feature has some missing values, filled with the most occurred value ( 'S' )."
    },
    {
      "metadata": {
        "_cell_guid": "1329072e-5fc0-4aea-bc7b-ec7c27aff260",
        "_uuid": "5268b97889ec90508f501697d9e8d497398e0c46",
        "collapsed": true,
        "trusted": true
      },
      "cell_type": "code",
      "source": "data['Embarked'].fillna(('S'), inplace=True)\ndata['Embarked'] = data['Embarked'].map( {'S': 0, 'C': 1, 'Q': 2} ).astype(int)\n\ntrain['Embarked'] = data['Embarked'][:len(train)]\ntest['Embarked'] = data['Embarked'][len(train):]",
      "execution_count": 6,
      "outputs": []
    },
    {
      "metadata": {
        "_cell_guid": "8c33619e-a180-4c12-9f63-e7b3023206cd",
        "_uuid": "382a7882e2ae3144513f8ffea8478b4e24e8df0f"
      },
      "cell_type": "markdown",
      "source": "## 5. Fare ##\nFare also has some missing value and replaced them with mean, and categorized into 4 ranges."
    },
    {
      "metadata": {
        "_cell_guid": "fd9b2edd-cf75-4ad8-a100-5ca06cb53f7b",
        "_uuid": "161a7a829ad6a45b7745655b1713888a6778818f",
        "collapsed": true,
        "trusted": true
      },
      "cell_type": "code",
      "source": "data['Fare'].fillna(np.mean(data['Fare']), inplace=True)\ndata['Categorical_Fare'] = pd.qcut(data['Fare'], 4, labels=False)\n\ntrain['Categorical_Fare'] = data['Categorical_Fare'][:len(train)]\ntest['Categorical_Fare'] = data['Categorical_Fare'][len(train):]",
      "execution_count": 7,
      "outputs": []
    },
    {
      "metadata": {
        "_cell_guid": "1ea2fef1-ec32-4688-9030-63bafed9692c",
        "_uuid": "0c6cb694c63862e8f1d805fdcd54769312aae246"
      },
      "cell_type": "markdown",
      "source": "## 6. Age ##\nThere are plenty of missing values in this feature. Generate random numbers between (mean - std) and (mean + std), categorized into 5 range."
    },
    {
      "metadata": {
        "_cell_guid": "5717373d-91ce-4cfd-a579-ef7dab192771",
        "_uuid": "42f1ebda5705d5272ea350bfd00e66c2f946a66e",
        "collapsed": true,
        "trusted": true
      },
      "cell_type": "code",
      "source": "age_avg = data['Age'].mean()\nage_std = data['Age'].std()\n\ndata['Age'].fillna(np.random.randint(age_avg - age_std, age_avg + age_std), inplace=True)\ndata['Categorical_Age'] = pd.cut(data['Age'], 5, labels=False)\n\ntrain['Categorical_Age'] = data['Categorical_Age'][:len(train)]\ntest['Categorical_Age'] = data['Categorical_Age'][len(train):]",
      "execution_count": 8,
      "outputs": []
    },
    {
      "metadata": {
        "_cell_guid": "84deabf4-68d7-4e49-af04-80e12dda61ee",
        "_uuid": "863ab430353620a94113d8b577a13816a48e3553"
      },
      "cell_type": "markdown",
      "source": "## 7. Name ##\nInside this feature, there are titles of people."
    },
    {
      "metadata": {
        "_cell_guid": "1ab17ba4-1d23-46e8-806f-7fe7920247e7",
        "_uuid": "3c21c7500255426797e93abf25c4c6e43aef063c",
        "collapsed": true,
        "scrolled": true,
        "trusted": true
      },
      "cell_type": "code",
      "source": "# Dropping Title feature\ndef get_title(name):\n\ttitle_search = re.search(' ([A-Za-z]+)\\.', name)\n\t# If the title exists, extract and return it.\n\tif title_search:\n\t\treturn title_search.group(1)\n\treturn \"\"\n\ndata['Title'] = data['Name'].apply(get_title)\n\ndata['Title'].replace(['Lady', 'Countess','Capt', 'Col',\\\n \t'Don', 'Dr', 'Major', 'Rev', 'Sir', 'Jonkheer', 'Dona'], 'Rare', inplace=True)\n\ndata['Title'].replace(['Mlle','Ms','Mme'],['Miss','Miss','Mrs'], inplace=True)\n\ntitle_mapping = {\"Mr\": 1, \"Miss\": 2, \"Mrs\": 3, \"Master\": 4, \"Rare\": 5}\ndata['Title'] = data['Title'].map(title_mapping)\ndata['Title'].fillna(0, inplace=True)",
      "execution_count": 9,
      "outputs": []
    },
    {
      "metadata": {
        "_cell_guid": "2a07a60b-4ba9-45df-a97e-ae7a7cc6e319",
        "_uuid": "3618fc5bef9d24a00c540f39fe5e5568d2a901eb"
      },
      "cell_type": "markdown",
      "source": "## 8. Family_Survival ##\nThis feature is from [S.Xu's kernel](https://www.kaggle.com/shunjiangxu/blood-is-thicker-than-water-friendship-forever)."
    },
    {
      "metadata": {
        "_cell_guid": "9d3ae08d-7a6d-445d-abfa-cf0c5cbac02b",
        "_uuid": "edb6e7aeb113f662a31a3544f9441781f89bec31",
        "trusted": true
      },
      "cell_type": "code",
      "source": "data['Last_Name'] = data['Name'].apply(lambda x: str.split(x, \",\")[0])\ndata['Fare'].fillna(data['Fare'].mean(), inplace=True)\n\nDEFAULT_SURVIVAL_VALUE = 0.5\ndata['Family_Survival'] = DEFAULT_SURVIVAL_VALUE\n\nfor grp, grp_df in data[['Survived','Name', 'Last_Name', 'Fare', 'Ticket', 'PassengerId',\n                           'SibSp', 'Parch', 'Age', 'Cabin']].groupby(['Last_Name', 'Fare']):\n    \n    if (len(grp_df) != 1):\n        # A Family group is found.\n        for ind, row in grp_df.iterrows():\n            smax = grp_df.drop(ind)['Survived'].max()\n            smin = grp_df.drop(ind)['Survived'].min()\n            passID = row['PassengerId']\n            if (smax == 1.0):\n                data.loc[data['PassengerId'] == passID, 'Family_Survival'] = 1\n            elif (smin==0.0):\n                data.loc[data['PassengerId'] == passID, 'Family_Survival'] = 0\n\nprint(\"Number of passengers with family survival information:\", \n      data.loc[data['Family_Survival']!=0.5].shape[0])",
      "execution_count": 10,
      "outputs": [
        {
          "name": "stdout",
          "output_type": "stream",
          "text": "Number of passengers with family survival information: 420\n"
        }
      ]
    },
    {
      "metadata": {
        "_cell_guid": "36d82782-c259-4255-be9a-e6a770df4ed6",
        "_uuid": "e4a184096cd14d72f3a3fdc8d7c1031b0c54cb7e",
        "scrolled": true,
        "trusted": true
      },
      "cell_type": "code",
      "source": "for _, grp_df in data.groupby('Ticket'):\n    if (len(grp_df) != 1):\n        for ind, row in grp_df.iterrows():\n            if (row['Family_Survival'] == 0) | (row['Family_Survival']== 0.5):\n                smax = grp_df.drop(ind)['Survived'].max()\n                smin = grp_df.drop(ind)['Survived'].min()\n                passID = row['PassengerId']\n                if (smax == 1.0):\n                    data.loc[data['PassengerId'] == passID, 'Family_Survival'] = 1\n                elif (smin==0.0):\n                    data.loc[data['PassengerId'] == passID, 'Family_Survival'] = 0\n                        \nprint(\"Number of passenger with family/group survival information: \" \n      +str(data[data['Family_Survival']!=0.5].shape[0]))\n\n# # Family_Survival in TRAIN_DF and TEST_DF:\ntrain['Family_Survival'] = data['Family_Survival'][:len(train)]\ntest['Family_Survival'] = data['Family_Survival'][len(train):]",
      "execution_count": 11,
      "outputs": [
        {
          "name": "stdout",
          "output_type": "stream",
          "text": "Number of passenger with family/group survival information: 546\n"
        }
      ]
    },
    {
      "metadata": {
        "_cell_guid": "b10e8bd3-bd55-40f4-992f-cfbe69238bc3",
        "_uuid": "2f9008e863b7b44cf94598d65d34f810cb42ec5d"
      },
      "cell_type": "markdown",
      "source": "## Data Cleaning ##"
    },
    {
      "metadata": {
        "_cell_guid": "d3f3527c-8758-41c2-bbe3-14b604b2d317",
        "_uuid": "f7341a6f089464180e94d5e09d1071e0350cff3d",
        "collapsed": true,
        "trusted": true
      },
      "cell_type": "code",
      "source": "delete_columns = ['Fare', 'Age', 'Name', 'PassengerId', 'SibSp', 'Parch', 'Ticket', 'Cabin']\ntrain.drop(delete_columns, axis = 1, inplace = True)\ntest.drop(delete_columns, axis = 1, inplace = True)",
      "execution_count": 12,
      "outputs": []
    },
    {
      "metadata": {
        "_cell_guid": "03d91a2b-08da-4593-8c1e-840fb7bec469",
        "_uuid": "768050e7f210d95ba28226ada778e763d21c97f8",
        "scrolled": true,
        "trusted": true
      },
      "cell_type": "code",
      "source": "train.head()",
      "execution_count": 13,
      "outputs": [
        {
          "data": {
            "text/html": "<div>\n<style scoped>\n    .dataframe tbody tr th:only-of-type {\n        vertical-align: middle;\n    }\n\n    .dataframe tbody tr th {\n        vertical-align: top;\n    }\n\n    .dataframe thead th {\n        text-align: right;\n    }\n</style>\n<table border=\"1\" class=\"dataframe\">\n  <thead>\n    <tr style=\"text-align: right;\">\n      <th></th>\n      <th>Survived</th>\n      <th>Pclass</th>\n      <th>Sex</th>\n      <th>Embarked</th>\n      <th>Family_Size</th>\n      <th>IsAlone</th>\n      <th>Categorical_Fare</th>\n      <th>Categorical_Age</th>\n      <th>Family_Survival</th>\n    </tr>\n  </thead>\n  <tbody>\n    <tr>\n      <th>0</th>\n      <td>0</td>\n      <td>3</td>\n      <td>0</td>\n      <td>0</td>\n      <td>2</td>\n      <td>0</td>\n      <td>0</td>\n      <td>1</td>\n      <td>0.5</td>\n    </tr>\n    <tr>\n      <th>1</th>\n      <td>1</td>\n      <td>1</td>\n      <td>1</td>\n      <td>1</td>\n      <td>2</td>\n      <td>0</td>\n      <td>3</td>\n      <td>2</td>\n      <td>0.5</td>\n    </tr>\n    <tr>\n      <th>2</th>\n      <td>1</td>\n      <td>3</td>\n      <td>1</td>\n      <td>0</td>\n      <td>1</td>\n      <td>1</td>\n      <td>1</td>\n      <td>1</td>\n      <td>0.5</td>\n    </tr>\n    <tr>\n      <th>3</th>\n      <td>1</td>\n      <td>1</td>\n      <td>1</td>\n      <td>0</td>\n      <td>2</td>\n      <td>0</td>\n      <td>3</td>\n      <td>2</td>\n      <td>0.0</td>\n    </tr>\n    <tr>\n      <th>4</th>\n      <td>0</td>\n      <td>3</td>\n      <td>0</td>\n      <td>0</td>\n      <td>1</td>\n      <td>1</td>\n      <td>1</td>\n      <td>2</td>\n      <td>0.5</td>\n    </tr>\n  </tbody>\n</table>\n</div>",
            "text/plain": "   Survived  Pclass       ...         Categorical_Age  Family_Survival\n0         0       3       ...                       1              0.5\n1         1       1       ...                       2              0.5\n2         1       3       ...                       1              0.5\n3         1       1       ...                       2              0.0\n4         0       3       ...                       2              0.5\n\n[5 rows x 9 columns]"
          },
          "execution_count": 13,
          "metadata": {},
          "output_type": "execute_result"
        }
      ]
    },
    {
      "metadata": {
        "_cell_guid": "19f52c93-701c-4ae1-ad7c-0c89004bc1a0",
        "_uuid": "d2f7f7fd519f1fcc160304783c8b440e5cb552da"
      },
      "cell_type": "markdown",
      "source": "# Classifier Comparison #"
    },
    {
      "metadata": {
        "_cell_guid": "5b91437e-845e-4e3f-a20e-19db3d7a8540",
        "_uuid": "52d1886521f05ac5043ef734d94aadf59cc7a073"
      },
      "cell_type": "markdown",
      "source": " - **Creating X and y**"
    },
    {
      "metadata": {
        "_cell_guid": "2fdafbf3-62cc-4365-8168-7e149f8b51f0",
        "_uuid": "94e2b9da92605974f2e7575f85b10abf98a0d6b4",
        "collapsed": true,
        "trusted": true
      },
      "cell_type": "code",
      "source": "X = train.drop('Survived', axis = 1)\ny = train['Survived']\nX_test = test.copy()",
      "execution_count": 14,
      "outputs": []
    },
    {
      "metadata": {
        "_cell_guid": "84ece816-177c-473e-92ae-620c5fe50be6",
        "_uuid": "fd73849d6b1805fa835b1031a1e2e812e0ef68e3"
      },
      "cell_type": "markdown",
      "source": " - **Scaling features**"
    },
    {
      "metadata": {
        "_cell_guid": "6f077d59-c48d-41b2-82b2-7cd325ed4aab",
        "_uuid": "fc95cee7c61fee94005453e2b97598f69267ca29",
        "collapsed": true,
        "trusted": true
      },
      "cell_type": "code",
      "source": "from sklearn.preprocessing import StandardScaler\nstd_scaler = StandardScaler()\nX = std_scaler.fit_transform(X)\nX_test = std_scaler.transform(X_test)",
      "execution_count": 15,
      "outputs": []
    },
    {
      "metadata": {
        "_cell_guid": "43c9d298-fc51-4f95-a752-00067b263bcc",
        "_uuid": "119fe3adcefa1884a98ce393dc2e6e5ffeacc204",
        "trusted": true
      },
      "cell_type": "code",
      "source": "import matplotlib.pyplot as plt\nimport seaborn as sns\n\nfrom sklearn.model_selection import StratifiedShuffleSplit\nfrom sklearn.metrics import accuracy_score, log_loss\nfrom sklearn.neighbors import KNeighborsClassifier\nfrom sklearn.svm import SVC\nfrom sklearn.tree import DecisionTreeClassifier\nfrom sklearn.ensemble import RandomForestClassifier, AdaBoostClassifier, GradientBoostingClassifier\nfrom sklearn.naive_bayes import GaussianNB\nfrom sklearn.discriminant_analysis import LinearDiscriminantAnalysis, QuadraticDiscriminantAnalysis\nfrom sklearn.linear_model import LogisticRegression\n\nclassifiers = [\n    KNeighborsClassifier(10),\n    SVC(probability=True),\n    DecisionTreeClassifier(),\n    RandomForestClassifier(),\n\tAdaBoostClassifier(),\n    GradientBoostingClassifier(),\n    GaussianNB(),\n    LinearDiscriminantAnalysis(),\n    QuadraticDiscriminantAnalysis(),\n    LogisticRegression()]\n\nlog_cols = [\"Classifier\", \"Accuracy\"]\nlog \t = pd.DataFrame(columns=log_cols)\n\nsss = StratifiedShuffleSplit(n_splits=10, test_size=0.1, random_state=0)\n\ntrain = train.values\ntest  = test.values\nX = train[0::, 1::]\ny = train[0::, 0]\n\nacc_dict = {}\n\nfor train_index, test_index in sss.split(X, y):\n\tX_train, X_test = X[train_index], X[test_index]\n\ty_train, y_test = y[train_index], y[test_index]\n\t\n\tfor clf in classifiers:\n\t\tname = clf.__class__.__name__\n\t\tclf.fit(X_train, y_train)\n\t\ttrain_predictions = clf.predict(X_test)\n\t\tacc = accuracy_score(y_test, train_predictions)\n\t\tif name in acc_dict:\n\t\t\tacc_dict[name] += acc\n\t\telse:\n\t\t\tacc_dict[name] = acc\n\nfor clf in acc_dict:\n\tacc_dict[clf] = acc_dict[clf] / 10.0\n\tlog_entry = pd.DataFrame([[clf, acc_dict[clf]]], columns=log_cols)\n\tlog = log.append(log_entry)\n\nplt.xlabel('Accuracy')\nplt.title('Classifier Accuracy')\n\nsns.set_color_codes(\"muted\")\nsns.barplot(x='Accuracy', y='Classifier', data=log, color=\"b\")",
      "execution_count": 16,
      "outputs": [
        {
          "name": "stderr",
          "output_type": "stream",
          "text": "/opt/conda/lib/python3.6/site-packages/sklearn/svm/base.py:194: FutureWarning: The default value of gamma will change from 'auto' to 'scale' in version 0.22 to account better for unscaled features. Set gamma explicitly to 'auto' or 'scale' to avoid this warning.\n  \"avoid this warning.\", FutureWarning)\n/opt/conda/lib/python3.6/site-packages/sklearn/svm/base.py:194: FutureWarning: The default value of gamma will change from 'auto' to 'scale' in version 0.22 to account better for unscaled features. Set gamma explicitly to 'auto' or 'scale' to avoid this warning.\n  \"avoid this warning.\", FutureWarning)\n/opt/conda/lib/python3.6/site-packages/sklearn/svm/base.py:194: FutureWarning: The default value of gamma will change from 'auto' to 'scale' in version 0.22 to account better for unscaled features. Set gamma explicitly to 'auto' or 'scale' to avoid this warning.\n  \"avoid this warning.\", FutureWarning)\n/opt/conda/lib/python3.6/site-packages/sklearn/svm/base.py:194: FutureWarning: The default value of gamma will change from 'auto' to 'scale' in version 0.22 to account better for unscaled features. Set gamma explicitly to 'auto' or 'scale' to avoid this warning.\n  \"avoid this warning.\", FutureWarning)\n/opt/conda/lib/python3.6/site-packages/sklearn/svm/base.py:194: FutureWarning: The default value of gamma will change from 'auto' to 'scale' in version 0.22 to account better for unscaled features. Set gamma explicitly to 'auto' or 'scale' to avoid this warning.\n  \"avoid this warning.\", FutureWarning)\n/opt/conda/lib/python3.6/site-packages/sklearn/svm/base.py:194: FutureWarning: The default value of gamma will change from 'auto' to 'scale' in version 0.22 to account better for unscaled features. Set gamma explicitly to 'auto' or 'scale' to avoid this warning.\n  \"avoid this warning.\", FutureWarning)\n/opt/conda/lib/python3.6/site-packages/sklearn/svm/base.py:194: FutureWarning: The default value of gamma will change from 'auto' to 'scale' in version 0.22 to account better for unscaled features. Set gamma explicitly to 'auto' or 'scale' to avoid this warning.\n  \"avoid this warning.\", FutureWarning)\n/opt/conda/lib/python3.6/site-packages/sklearn/svm/base.py:194: FutureWarning: The default value of gamma will change from 'auto' to 'scale' in version 0.22 to account better for unscaled features. Set gamma explicitly to 'auto' or 'scale' to avoid this warning.\n  \"avoid this warning.\", FutureWarning)\n/opt/conda/lib/python3.6/site-packages/sklearn/svm/base.py:194: FutureWarning: The default value of gamma will change from 'auto' to 'scale' in version 0.22 to account better for unscaled features. Set gamma explicitly to 'auto' or 'scale' to avoid this warning.\n  \"avoid this warning.\", FutureWarning)\n/opt/conda/lib/python3.6/site-packages/sklearn/svm/base.py:194: FutureWarning: The default value of gamma will change from 'auto' to 'scale' in version 0.22 to account better for unscaled features. Set gamma explicitly to 'auto' or 'scale' to avoid this warning.\n  \"avoid this warning.\", FutureWarning)\n"
        },
        {
          "data": {
            "text/plain": "<matplotlib.axes._subplots.AxesSubplot at 0x7f2eee346e10>"
          },
          "execution_count": 16,
          "metadata": {},
          "output_type": "execute_result"
        },
        {
          "data": {
            "image/png": "[encoded data removed]",
            "text/plain": "<matplotlib.figure.Figure at 0x7f2f82bf6e48>"
          },
          "metadata": {},
          "output_type": "display_data"
        }
      ]
    },
    {
      "metadata": {
        "_cell_guid": "4c513d04-4f5d-4ded-ae4f-3703de327918",
        "_uuid": "edd96efd3c04c82a67d9ae9aa8d36d531547d079",
        "trusted": true
      },
      "cell_type": "code",
      "source": "log",
      "execution_count": 17,
      "outputs": [
        {
          "data": {
            "text/html": "<div>\n<style scoped>\n    .dataframe tbody tr th:only-of-type {\n        vertical-align: middle;\n    }\n\n    .dataframe tbody tr th {\n        vertical-align: top;\n    }\n\n    .dataframe thead th {\n        text-align: right;\n    }\n</style>\n<table border=\"1\" class=\"dataframe\">\n  <thead>\n    <tr style=\"text-align: right;\">\n      <th></th>\n      <th>Classifier</th>\n      <th>Accuracy</th>\n    </tr>\n  </thead>\n  <tbody>\n    <tr>\n      <th>0</th>\n      <td>KNeighborsClassifier</td>\n      <td>0.810000</td>\n    </tr>\n    <tr>\n      <th>0</th>\n      <td>SVC</td>\n      <td>0.831111</td>\n    </tr>\n    <tr>\n      <th>0</th>\n      <td>DecisionTreeClassifier</td>\n      <td>0.821111</td>\n    </tr>\n    <tr>\n      <th>0</th>\n      <td>RandomForestClassifier</td>\n      <td>0.831111</td>\n    </tr>\n    <tr>\n      <th>0</th>\n      <td>AdaBoostClassifier</td>\n      <td>0.823333</td>\n    </tr>\n    <tr>\n      <th>0</th>\n      <td>GradientBoostingClassifier</td>\n      <td>0.821111</td>\n    </tr>\n    <tr>\n      <th>0</th>\n      <td>GaussianNB</td>\n      <td>0.786667</td>\n    </tr>\n    <tr>\n      <th>0</th>\n      <td>LinearDiscriminantAnalysis</td>\n      <td>0.814444</td>\n    </tr>\n    <tr>\n      <th>0</th>\n      <td>QuadraticDiscriminantAnalysis</td>\n      <td>0.791111</td>\n    </tr>\n    <tr>\n      <th>0</th>\n      <td>LogisticRegression</td>\n      <td>0.823333</td>\n    </tr>\n  </tbody>\n</table>\n</div>",
            "text/plain": "                      Classifier  Accuracy\n0           KNeighborsClassifier  0.810000\n0                            SVC  0.831111\n0         DecisionTreeClassifier  0.821111\n0         RandomForestClassifier  0.831111\n0             AdaBoostClassifier  0.823333\n0     GradientBoostingClassifier  0.821111\n0                     GaussianNB  0.786667\n0     LinearDiscriminantAnalysis  0.814444\n0  QuadraticDiscriminantAnalysis  0.791111\n0             LogisticRegression  0.823333"
          },
          "execution_count": 17,
          "metadata": {},
          "output_type": "execute_result"
        }
      ]
    },
    {
      "metadata": {
        "_cell_guid": "bd37c2af-8981-43b0-8a60-da278d130073",
        "_uuid": "e59cb01ea58d9aaf401655bee18c682976956f00"
      },
      "cell_type": "markdown",
      "source": "## Grid Search CV ##\n \n Here I use KNN."
    },
    {
      "metadata": {
        "_cell_guid": "0baa26fd-c625-44a0-9411-b2479ace87ab",
        "_uuid": "670108e53958cb3378a2d7f35043c698cedb05be",
        "trusted": true
      },
      "cell_type": "code",
      "source": "from sklearn.model_selection import GridSearchCV\n\nn_neighbors = list(range(5,20,1))\nalgorithm = ['auto']\nweights = ['uniform', 'distance']\nleaf_size = list(range(1,50,5))\nhyperparams = {'algorithm': algorithm, 'weights': weights, 'leaf_size': leaf_size, \n               'n_neighbors': n_neighbors}\ngd = GridSearchCV(estimator = KNeighborsClassifier(), param_grid = hyperparams, verbose=True, \n                cv=10, scoring = \"roc_auc\", n_jobs=10)\ngd.fit(X, y)\nprint(gd.best_score_)\nprint(gd.best_estimator_)",
      "execution_count": 18,
      "outputs": [
        {
          "name": "stdout",
          "output_type": "stream",
          "text": "Fitting 10 folds for each of 300 candidates, totalling 3000 fits\n"
        },
        {
          "name": "stderr",
          "output_type": "stream",
          "text": "[Parallel(n_jobs=10)]: Done 120 tasks      | elapsed:    0.9s\n[Parallel(n_jobs=10)]: Done 1620 tasks      | elapsed:    7.1s\n"
        },
        {
          "name": "stdout",
          "output_type": "stream",
          "text": "0.862053788854\nKNeighborsClassifier(algorithm='auto', leaf_size=6, metric='minkowski',\n           metric_params=None, n_jobs=1, n_neighbors=10, p=2,\n           weights='uniform')\n"
        },
        {
          "name": "stderr",
          "output_type": "stream",
          "text": "[Parallel(n_jobs=10)]: Done 3000 out of 3000 | elapsed:   11.0s finished\n/opt/conda/lib/python3.6/site-packages/sklearn/model_selection/_search.py:718: DeprecationWarning: The default of the `iid` parameter will change from True to False in version 0.22 and will be removed in 0.24. This will change numeric results when test-set sizes are unequal.\n  DeprecationWarning)\n"
        }
      ]
    },
    {
      "metadata": {
        "_cell_guid": "b91368fc-7671-497c-bea2-bba3b857633c",
        "_uuid": "f2170452b8a8f2fa89f4b5e9bb221e488bf42282"
      },
      "cell_type": "markdown",
      "source": " - **Using a model found by grid searching**"
    },
    {
      "metadata": {
        "_cell_guid": "2ab86ce3-6bc2-46d1-9324-cf496bb1ea06",
        "_uuid": "485df2df733917a8bbf405a9a9eabf792ecb89e4",
        "collapsed": true,
        "trusted": true
      },
      "cell_type": "code",
      "source": "gd.best_estimator_.fit(X, y)\ny_pred = gd.best_estimator_.predict(test)",
      "execution_count": 19,
      "outputs": []
    },
    {
      "metadata": {
        "_cell_guid": "a37e176c-3b55-43ab-b358-324dc384ceef",
        "_uuid": "d4d6df3e6c40063309ea72f4d4cea51cf616fd80"
      },
      "cell_type": "markdown",
      "source": "- **Making submission**"
    },
    {
      "metadata": {
        "_cell_guid": "8111500e-330c-411e-a742-66b9d4c5cb2c",
        "_uuid": "40858051e4f458835f937275be4dfe3dfa68b25f",
        "collapsed": true,
        "trusted": true
      },
      "cell_type": "code",
      "source": "temp = pd.DataFrame(pd.read_csv(\"../input/test.csv\")['PassengerId'])\ntemp['Survived'] = list(map(int, y_pred))\ntemp.to_csv(\"submission.csv\", index = False)",
      "execution_count": 27,
      "outputs": []
    },
    {
      "metadata": {
        "_cell_guid": "31e4aad1-6656-4de6-accc-433412462c40",
        "_uuid": "8fbf60d67d52c02451b46de00ce927aadfd4c744",
        "collapsed": true,
        "trusted": true
      },
      "cell_type": "code",
      "source": "",
      "execution_count": null,
      "outputs": []
    }
  ],
  "metadata": {
    "kernelspec": {
      "display_name": "Python 3",
      "language": "python",
      "name": "python3"
    },
    "language_info": {
      "name": "python",
      "version": "3.6.5",
      "mimetype": "text/x-python",
      "codemirror_mode": {
        "name": "ipython",
        "version": 3
      },
      "pygments_lexer": "ipython3",
      "nbconvert_exporter": "python",
      "file_extension": ".py"
    }
  },
  "nbformat": 4,
  "nbformat_minor": 1
}